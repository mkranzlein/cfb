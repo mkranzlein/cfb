{
 "cells": [
  {
   "cell_type": "markdown",
   "metadata": {},
   "source": [
    "# Credit\n",
    "This implementation of the _constrained_ forward-backward algorithm is based on an [implementation](http://www.katrinerk.com/courses/python-worksheets/demo-the-forward-backward-algorithm) of the forward-backward algorithm from Katrin Erk."
   ]
  },
  {
   "cell_type": "markdown",
   "metadata": {},
   "source": [
    "# Constrained Forward-Backward Algorithm (Culotta & McCallum 2004)\n",
    "Input:\n",
    "- A sequence of observations\n",
    "- A subsequence of labels (states)\n",
    "- Transition scores\n",
    "\n",
    "Output: Marginal probability of that subsequence of labels\n",
    "\n",
    "## Example\n",
    "\n",
    "Suppose you want to assign part-of-speech tags to each token in the sentence below:\n",
    "\n",
    "> The dog jumped over the cat.\n",
    "\n",
    "In particular, suppose you want to know the probabilty that \"jumped over\" is \"V P\". To calculate this, we calculate the score of each possible sequence that contains \"V P\" and sum those scores to get $Z'$. Then we calculate the score of all possible sequences and sum those scores to get $Z$. Then the marginal probablity of the label subsequence \"V P\" for \"jumped over\" is $Z' / Z$ (or $\\exp(Z' - Z)$) when dealing with log likelihood.\n"
   ]
  },
  {
   "cell_type": "markdown",
   "metadata": {},
   "source": [
    "- [Confidence Estimation for Information Extraction](https://www.aclweb.org/anthology/N04-4028.pdf)\n",
    "- [The Forward-Backward Algorithm](http://www.cs.columbia.edu/~mcollins/fb.pdf)"
   ]
  },
  {
   "cell_type": "markdown",
   "metadata": {},
   "source": [
    "Forward probability:\n",
    "\n",
    "$$\\alpha_{t+1}(s_i) = \\sum_{s'} \\left[ \\alpha_t(s') \\exp \\left( \\sum_k \\lambda_k f_k (s', s_i, \\mathbf{o}, t) \\right) \\right]$$"
   ]
  },
  {
   "cell_type": "markdown",
   "metadata": {},
   "source": [
    "This can be read as: the forward probability for a state $s_i$ at the next time step is the sum of each state's score times $e$ to the CRF's output for transitioning from the current state to $s_i$. The constrained forward backward algorithm uses a modified forward pass that includes a state only if it is in the constraints. For example, any sequence passing through $s_{\\text{jumped}}(N)$ should be scored 0 if our constraints are \"V P\" for \"jumped over\"."
   ]
  },
  {
   "cell_type": "markdown",
   "metadata": {},
   "source": [
    "Confidence estimate is equal to $\\exp (Z'_o - Z_o)$, where:\n",
    "\n",
    "- $Z'_o = \\sum_i \\alpha'_T(s_i)$ ($\\alpha'$ is a constrained forward value)\n",
    "- $Z_o = \\sum_i \\alpha_T(s_i)$"
   ]
  },
  {
   "cell_type": "code",
   "execution_count": 1,
   "metadata": {},
   "outputs": [],
   "source": [
    "import math\n",
    "import random\n",
    "\n",
    "import numpy as np\n",
    "\n",
    "\n",
    "# Placeholder for the output of the CRF. The scores are coerced to be useful for this example.\n",
    "def score(prev_state, state, word):\n",
    "    if word == \"jumped\" and state == 3:\n",
    "        return 1\n",
    "    elif word == \"over\" and state == 2:\n",
    "        return 1\n",
    "    else:\n",
    "        return random.uniform(0, .001)"
   ]
  },
  {
   "cell_type": "code",
   "execution_count": 2,
   "metadata": {},
   "outputs": [],
   "source": [
    "def get_marginal(states, observations, constraints):\n",
    "    cl, ul = get_lattices(states, observations, constraints)\n",
    "    \n",
    "    z_prime = sum(cl[:, -1])\n",
    "    z = sum(ul[:, -1])\n",
    "    \n",
    "    return math.exp(z_prime - z)\n",
    "\n",
    "def get_lattices(states, observations, constraints):\n",
    "    # Constrained lattice (i.e. all sequences of labels that adhere to constraints)\n",
    "    cl = np.zeros((len(states), len(observations)))\n",
    "    \n",
    "    # Unconstrained lattice (i.e. all possible sequences of labels)\n",
    "    ul = np.zeros((len(states), len(observations)))\n",
    "    \n",
    "    # Initialization\n",
    "    for s in range(len(states)):\n",
    "        cl[s, 0] = score(None, states[s], observations[0])\n",
    "        ul[s, 0] = score(None, states[s], observations[0])\n",
    "    \n",
    "    # Time steps 2 through T\n",
    "    for t in range(1, len(observations)):\n",
    "        for s in range(len(states)):\n",
    "            ul[s, t] = sum([ul[s2, t - 1] * math.exp(score(s2, s, observations[t])) \n",
    "                            for s2 in range(len(states))])\n",
    "            \n",
    "            if t in constraints.keys():\n",
    "                if s == states.index(constraints[t]):\n",
    "                    cl[s, t] = sum([cl[s2, t - 1] * math.exp(score(s2, s, observations[t]))\n",
    "                                    for s2 in range(len(states))])\n",
    "                else:\n",
    "                    cl[s, t] = 0\n",
    "            else:\n",
    "                cl[s, t] = sum([cl[s2, t - 1] * math.exp(score(s2, s, observations[t])) \n",
    "                                for s2 in range(len(states))])\n",
    "    \n",
    "    return cl, ul"
   ]
  },
  {
   "cell_type": "code",
   "execution_count": 3,
   "metadata": {},
   "outputs": [
    {
     "data": {
      "text/plain": [
       "0.0793078287784557"
      ]
     },
     "execution_count": 3,
     "metadata": {},
     "output_type": "execute_result"
    }
   ],
   "source": [
    "# List of possible states (labels)\n",
    "states = [\"D\", \"N\", \"P\", \"V\"]\n",
    "\n",
    "# List of observed tokens\n",
    "observations = [\"the\", \"dog\", \"jumped\", \"over\", \"the\", \"cat\"]\n",
    "\n",
    "# Dictionary of constraints containing observation indexes as keys and POS tags as values\n",
    "constraints = {2: \"V\", 3: \"P\"}\n",
    "\n",
    "get_marginal(states, observations, constraints)"
   ]
  }
 ],
 "metadata": {
  "kernelspec": {
   "display_name": "cfb",
   "language": "python",
   "name": "cfb"
  },
  "language_info": {
   "codemirror_mode": {
    "name": "ipython",
    "version": 3
   },
   "file_extension": ".py",
   "mimetype": "text/x-python",
   "name": "python",
   "nbconvert_exporter": "python",
   "pygments_lexer": "ipython3",
   "version": "3.7.4"
  }
 },
 "nbformat": 4,
 "nbformat_minor": 4
}
